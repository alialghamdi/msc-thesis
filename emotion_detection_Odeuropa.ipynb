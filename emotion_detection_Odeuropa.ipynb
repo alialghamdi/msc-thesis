{
 "cells": [
  {
   "cell_type": "code",
   "execution_count": 4,
   "id": "1bf3f1fa-1246-45c4-94fb-145cc33f3fab",
   "metadata": {},
   "outputs": [
    {
     "name": "stdout",
     "output_type": "stream",
     "text": [
      "\n",
      "This is so much fun!\n",
      "[{'label': 'amusement', 'score': 0.9999563694000244}, {'label': 'joy', 'score': 0.7406578660011292}, {'label': 'excitement', 'score': 0.11775331944227219}, {'label': 'gratitude', 'score': 0.107562355697155}, {'label': 'approval', 'score': 0.05723561346530914}, {'label': 'relief', 'score': 0.01573985069990158}, {'label': 'admiration', 'score': 0.0024950276128947735}, {'label': 'curiosity', 'score': 0.0024055142421275377}, {'label': 'annoyance', 'score': 0.0012172613060101867}, {'label': 'calmness', 'score': 0.0010618354426696897}, {'label': 'boredom', 'score': 0.0008806326659396291}, {'label': 'sadness', 'score': 0.0008209100924432278}, {'label': 'envy', 'score': 0.0005729530239477754}, {'label': 'nostalgia', 'score': 0.0004486997495405376}, {'label': 'optimism', 'score': 0.00038366232183761895}, {'label': 'disgust', 'score': 0.0003739102103281766}, {'label': 'disapproval', 'score': 0.00028895746800117195}, {'label': 'courage', 'score': 0.00027820811374112964}, {'label': 'frustration', 'score': 0.00027108532958664}, {'label': 'nervousness', 'score': 0.00025880662724375725}, {'label': 'indifference', 'score': 0.00023325992515310645}, {'label': 'anger', 'score': 0.00022172968601807952}, {'label': 'embarrassment', 'score': 0.00021377623488660902}, {'label': 'grief', 'score': 0.00021212751744315028}, {'label': 'despair', 'score': 0.00020258633594494313}, {'label': 'surprise', 'score': 0.00016324383614119142}, {'label': 'pride', 'score': 0.00013784179463982582}, {'label': 'pain', 'score': 0.00012905485345982015}, {'label': 'disappointment', 'score': 0.00012676120968535542}, {'label': 'faith', 'score': 8.852245809976012e-05}, {'label': 'greed', 'score': 8.032380719669163e-05}, {'label': 'trust', 'score': 5.7299665058963e-05}, {'label': 'doubt', 'score': 4.418674870976247e-05}, {'label': 'love', 'score': 3.659341382444836e-05}, {'label': 'caring', 'score': 3.0400358809856698e-05}, {'label': 'fear', 'score': 2.5796236513997428e-05}, {'label': 'guilt', 'score': 1.558697476866655e-05}, {'label': 'desire', 'score': 1.3351132110983599e-05}]\n",
      "\n",
      "\n",
      "I want to go back home to my dogs, i'll be happy to go back to them.\n",
      "[{'label': 'nostalgia', 'score': 0.9985743761062622}, {'label': 'desire', 'score': 0.9935737252235413}, {'label': 'disapproval', 'score': 0.14650459587574005}, {'label': 'grief', 'score': 0.047950755804777145}, {'label': 'annoyance', 'score': 0.014233935624361038}, {'label': 'guilt', 'score': 0.00221504969522357}, {'label': 'faith', 'score': 0.0017408850835636258}, {'label': 'excitement', 'score': 0.0007381460163742304}, {'label': 'nervousness', 'score': 0.0006189213017933071}, {'label': 'relief', 'score': 0.0004984582192264497}, {'label': 'calmness', 'score': 0.00043009885121136904}, {'label': 'fear', 'score': 0.00030712696025148034}, {'label': 'caring', 'score': 0.00026331012486480176}, {'label': 'anger', 'score': 0.00025139018543995917}, {'label': 'courage', 'score': 0.00023647038324270397}, {'label': 'envy', 'score': 0.0002326074318261817}, {'label': 'disgust', 'score': 0.0001433279103366658}, {'label': 'pain', 'score': 0.00010413277050247416}, {'label': 'amusement', 'score': 0.00010388174996478483}, {'label': 'greed', 'score': 9.368843893753365e-05}, {'label': 'sadness', 'score': 8.997768600238487e-05}, {'label': 'boredom', 'score': 8.319505286635831e-05}, {'label': 'curiosity', 'score': 7.52469859435223e-05}, {'label': 'disappointment', 'score': 7.312098023248836e-05}, {'label': 'joy', 'score': 6.363089778460562e-05}, {'label': 'indifference', 'score': 5.4617605201201513e-05}, {'label': 'approval', 'score': 5.40781875315588e-05}, {'label': 'gratitude', 'score': 5.2430965297389776e-05}, {'label': 'trust', 'score': 5.114618033985607e-05}, {'label': 'embarrassment', 'score': 4.796540451934561e-05}, {'label': 'frustration', 'score': 3.718067819136195e-05}, {'label': 'doubt', 'score': 3.522046245052479e-05}, {'label': 'optimism', 'score': 2.716037488426082e-05}, {'label': 'surprise', 'score': 2.503417999832891e-05}, {'label': 'despair', 'score': 1.9986555344075896e-05}, {'label': 'admiration', 'score': 1.9058632460655645e-05}, {'label': 'love', 'score': 1.8092683603754267e-05}, {'label': 'pride', 'score': 1.3232158380560577e-05}]\n",
      "\n",
      "\n",
      "What has happened to our world? Why is it so ugly?\n",
      "[{'label': 'curiosity', 'score': 0.9223552346229553}, {'label': 'fear', 'score': 0.7807254195213318}, {'label': 'doubt', 'score': 0.36361727118492126}, {'label': 'annoyance', 'score': 0.27392899990081787}, {'label': 'boredom', 'score': 0.05404133349657059}, {'label': 'despair', 'score': 0.032419562339782715}, {'label': 'surprise', 'score': 0.016940226778388023}, {'label': 'sadness', 'score': 0.01079725194722414}, {'label': 'disapproval', 'score': 0.007320040371268988}, {'label': 'disgust', 'score': 0.006381163839250803}, {'label': 'embarrassment', 'score': 0.00567293306812644}, {'label': 'frustration', 'score': 0.003678729059174657}, {'label': 'envy', 'score': 0.0020486279390752316}, {'label': 'grief', 'score': 0.0017378299962729216}, {'label': 'nervousness', 'score': 0.0016023368807509542}, {'label': 'greed', 'score': 0.000907907378859818}, {'label': 'indifference', 'score': 0.0007137290667742491}, {'label': 'faith', 'score': 0.000617633166257292}, {'label': 'pride', 'score': 0.000159130257088691}, {'label': 'trust', 'score': 0.0001435852173017338}, {'label': 'approval', 'score': 0.00013401315663941205}, {'label': 'pain', 'score': 0.00011780670320149511}, {'label': 'gratitude', 'score': 7.220027328003198e-05}, {'label': 'amusement', 'score': 5.892448825761676e-05}, {'label': 'nostalgia', 'score': 5.86013775318861e-05}, {'label': 'anger', 'score': 4.85422569909133e-05}, {'label': 'guilt', 'score': 4.170418105786666e-05}, {'label': 'optimism', 'score': 3.540358738973737e-05}, {'label': 'admiration', 'score': 3.394716259208508e-05}, {'label': 'joy', 'score': 3.3180953323608264e-05}, {'label': 'caring', 'score': 3.219620339223184e-05}, {'label': 'excitement', 'score': 3.0087740015005693e-05}, {'label': 'relief', 'score': 1.6942924048635177e-05}, {'label': 'disappointment', 'score': 1.579418676556088e-05}, {'label': 'calmness', 'score': 1.5174549844232388e-05}, {'label': 'love', 'score': 8.825088116282132e-06}, {'label': 'courage', 'score': 6.915109224792104e-06}, {'label': 'desire', 'score': 6.1713521972706076e-06}]\n",
      "\n",
      "\n"
     ]
    }
   ],
   "source": [
    "\"\"\"Example of inference with these models using a huggingface pipeline.\"\"\"\n",
    "\n",
    "from transformers import pipeline\n",
    "\n",
    "# Available models\n",
    "# lrei/roberta-large-emolit\n",
    "# lrei/roberta-base-emolit\n",
    "# lrei/distilroberta-base-emolit\n",
    "MODEL = \"lrei/xlm-roberta-base-emolit-multilingual\"\n",
    "\n",
    "\n",
    "classifier = pipeline(\n",
    "    \"text-classification\",\n",
    "    model=MODEL,\n",
    "    device=None,\n",
    ")\n",
    "\n",
    "texts = [\"This is so much fun!\",\n",
    "         \"I want to go back home to my dogs, i'll be happy to go back to them.\", \"What has happened to our world? Why is it so ugly?\"]\n",
    "\n",
    "\n",
    "print()\n",
    "results = classifier(texts, top_k=None, function_to_apply=\"sigmoid\")\n",
    "for t, r in zip(texts, results):\n",
    "    print(t)\n",
    "    print(r)\n",
    "    print(\"\\n\")"
   ]
  },
  {
   "cell_type": "code",
   "execution_count": null,
   "id": "dce483e6-2138-403a-95af-45b3c38de185",
   "metadata": {},
   "outputs": [],
   "source": []
  }
 ],
 "metadata": {
  "kernelspec": {
   "display_name": "Python 3 (ipykernel)",
   "language": "python",
   "name": "python3"
  },
  "language_info": {
   "codemirror_mode": {
    "name": "ipython",
    "version": 3
   },
   "file_extension": ".py",
   "mimetype": "text/x-python",
   "name": "python",
   "nbconvert_exporter": "python",
   "pygments_lexer": "ipython3",
   "version": "3.11.5"
  }
 },
 "nbformat": 4,
 "nbformat_minor": 5
}
